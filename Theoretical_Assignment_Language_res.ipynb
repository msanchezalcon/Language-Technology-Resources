{
 "cells": [
  {
   "cell_type": "markdown",
   "metadata": {},
   "source": [
    "## LT2304 Language Technology Resources: Assignment on word embeddings"
   ]
  },
  {
   "cell_type": "markdown",
   "metadata": {},
   "source": [
    "#### Míriam Sánchez Alcón"
   ]
  },
  {
   "cell_type": "code",
   "execution_count": 1,
   "metadata": {},
   "outputs": [],
   "source": [
    "from gensim.models.word2vec import Word2Vec\n",
    "from multiprocessing import cpu_count\n",
    "import gensim.downloader as api"
   ]
  },
  {
   "cell_type": "code",
   "execution_count": 2,
   "metadata": {},
   "outputs": [],
   "source": [
    "# Download dataset\n",
    "dataset = api.load(\"text8\")\n",
    "data = [d for d in dataset]"
   ]
  },
  {
   "cell_type": "code",
   "execution_count": 3,
   "metadata": {},
   "outputs": [],
   "source": [
    "# Split the data into 2 parts. Part 2 will be used later to update the model\n",
    "data_part1 = data[:1000]\n",
    "data_part2 = data[1000:]"
   ]
  },
  {
   "cell_type": "code",
   "execution_count": 4,
   "metadata": {},
   "outputs": [],
   "source": [
    "# Train Word2Vec model. Defaults result vector size = 100\n",
    "model = Word2Vec(data_part1, min_count = 0, workers=cpu_count())"
   ]
  },
  {
   "cell_type": "code",
   "execution_count": 5,
   "metadata": {},
   "outputs": [],
   "source": [
    "# Get the word vector for given word\n",
    "#model['boat']"
   ]
  },
  {
   "cell_type": "code",
   "execution_count": 6,
   "metadata": {},
   "outputs": [],
   "source": [
    "# Save and Load Model\n",
    "model.save('newmodel')\n",
    "model = Word2Vec.load('newmodel')"
   ]
  },
  {
   "cell_type": "markdown",
   "metadata": {},
   "source": [
    "### 1.1 Nearest neighbours"
   ]
  },
  {
   "cell_type": "markdown",
   "metadata": {},
   "source": [
    "#### For each of the closest neighbors, specify what linguistic relation exists. Is it semantic, mor- phological, spelling difference, or other? Specify beyond these categories when possible (for instance, what specific kinds of semantic or morphological relation)."
   ]
  },
  {
   "cell_type": "markdown",
   "metadata": {},
   "source": [
    "(answered individually after each example)"
   ]
  },
  {
   "cell_type": "markdown",
   "metadata": {},
   "source": [
    "#### What do all the relations compiled above have in common that makes word2vec be able to capture them?"
   ]
  },
  {
   "cell_type": "markdown",
   "metadata": {},
   "source": [
    "They all have in common a proximity in the vector space, which means that all of them share a common room or context and therefore they are either used in similar way (in a similar context) or they stem/derive from the same word."
   ]
  },
  {
   "cell_type": "code",
   "execution_count": 7,
   "metadata": {},
   "outputs": [
    {
     "name": "stderr",
     "output_type": "stream",
     "text": [
      "/anaconda3/lib/python3.6/site-packages/ipykernel_launcher.py:1: DeprecationWarning: Call to deprecated `most_similar_cosmul` (Method will be removed in 4.0.0, use self.wv.most_similar_cosmul() instead).\n",
      "  \"\"\"Entry point for launching an IPython kernel.\n"
     ]
    },
    {
     "data": {
      "text/plain": [
       "[('develop', 0.9094280004501343),\n",
       " ('introduce', 0.8985365629196167),\n",
       " ('exploit', 0.8838707208633423),\n",
       " ('construct', 0.8829323649406433),\n",
       " ('adapt', 0.878865122795105),\n",
       " ('build', 0.878303050994873),\n",
       " ('enable', 0.8764412999153137),\n",
       " ('acquire', 0.8740254640579224)]"
      ]
     },
     "execution_count": 7,
     "metadata": {},
     "output_type": "execute_result"
    }
   ],
   "source": [
    "model.most_similar_cosmul('create', topn=8)"
   ]
  },
  {
   "cell_type": "markdown",
   "metadata": {},
   "source": [
    "The closest neighbors to 'create' are other verbs that express a similar meaning, thus the similarity being semantic ('the action of producing something new')."
   ]
  },
  {
   "cell_type": "code",
   "execution_count": 8,
   "metadata": {},
   "outputs": [
    {
     "name": "stderr",
     "output_type": "stream",
     "text": [
      "/anaconda3/lib/python3.6/site-packages/ipykernel_launcher.py:1: DeprecationWarning: Call to deprecated `most_similar_cosmul` (Method will be removed in 4.0.0, use self.wv.most_similar_cosmul() instead).\n",
      "  \"\"\"Entry point for launching an IPython kernel.\n"
     ]
    },
    {
     "data": {
      "text/plain": [
       "[('bad', 0.883431613445282),\n",
       " ('really', 0.8022475242614746),\n",
       " ('quick', 0.8021515607833862),\n",
       " ('luck', 0.8018017411231995),\n",
       " ('poor', 0.8013737797737122),\n",
       " ('everyone', 0.7982611656188965),\n",
       " ('my', 0.7962745428085327),\n",
       " ('you', 0.7953109741210938)]"
      ]
     },
     "execution_count": 8,
     "metadata": {},
     "output_type": "execute_result"
    }
   ],
   "source": [
    "model.most_similar_cosmul('good', topn=8)"
   ]
  },
  {
   "cell_type": "markdown",
   "metadata": {},
   "source": [
    "The closest neighbors to 'good' are a combination of semantically similar adjectives, sustantives and pronouns, all being positive characteristics of a person or an object."
   ]
  },
  {
   "cell_type": "code",
   "execution_count": 9,
   "metadata": {},
   "outputs": [
    {
     "name": "stderr",
     "output_type": "stream",
     "text": [
      "/anaconda3/lib/python3.6/site-packages/ipykernel_launcher.py:1: DeprecationWarning: Call to deprecated `most_similar_cosmul` (Method will be removed in 4.0.0, use self.wv.most_similar_cosmul() instead).\n",
      "  \"\"\"Entry point for launching an IPython kernel.\n"
     ]
    },
    {
     "data": {
      "text/plain": [
       "[('emperor', 0.9077165126800537),\n",
       " ('throne', 0.9017484188079834),\n",
       " ('prince', 0.8884717226028442),\n",
       " ('elector', 0.8861269950866699),\n",
       " ('judah', 0.8861194849014282),\n",
       " ('queen', 0.8846652507781982),\n",
       " ('sultan', 0.8791512250900269),\n",
       " ('constantine', 0.8728420734405518)]"
      ]
     },
     "execution_count": 9,
     "metadata": {},
     "output_type": "execute_result"
    }
   ],
   "source": [
    "model.most_similar_cosmul('king', topn=8)"
   ]
  },
  {
   "cell_type": "markdown",
   "metadata": {},
   "source": [
    "The closest neighbors to 'king' are semantically similar sustantives or sustantives that are related to king somehow, such as the equivalent to the word king in other cultures, the female counterpart, or an item related to it."
   ]
  },
  {
   "cell_type": "code",
   "execution_count": 10,
   "metadata": {},
   "outputs": [
    {
     "name": "stderr",
     "output_type": "stream",
     "text": [
      "/anaconda3/lib/python3.6/site-packages/ipykernel_launcher.py:1: DeprecationWarning: Call to deprecated `most_similar_cosmul` (Method will be removed in 4.0.0, use self.wv.most_similar_cosmul() instead).\n",
      "  \"\"\"Entry point for launching an IPython kernel.\n"
     ]
    },
    {
     "data": {
      "text/plain": [
       "[('rotterdam', 0.9175029397010803),\n",
       " ('stuttgart', 0.9094671607017517),\n",
       " ('mannheim', 0.9077668786048889),\n",
       " ('helsinki', 0.8997992277145386),\n",
       " ('dortmund', 0.8982261419296265),\n",
       " ('dresden', 0.8961442708969116),\n",
       " ('manitoba', 0.8938829898834229),\n",
       " ('bradford', 0.8931567072868347)]"
      ]
     },
     "execution_count": 10,
     "metadata": {},
     "output_type": "execute_result"
    }
   ],
   "source": [
    "model.most_similar_cosmul('stockholm', topn=8)"
   ]
  },
  {
   "cell_type": "markdown",
   "metadata": {},
   "source": [
    "The closest neighbors to 'stockholm' share the property of being a city (therefore semantically similar) or frequently visited institutions/buildings within that city, such as the university or the train station."
   ]
  },
  {
   "cell_type": "code",
   "execution_count": 11,
   "metadata": {},
   "outputs": [
    {
     "name": "stderr",
     "output_type": "stream",
     "text": [
      "/anaconda3/lib/python3.6/site-packages/ipykernel_launcher.py:1: DeprecationWarning: Call to deprecated `most_similar_cosmul` (Method will be removed in 4.0.0, use self.wv.most_similar_cosmul() instead).\n",
      "  \"\"\"Entry point for launching an IPython kernel.\n"
     ]
    },
    {
     "data": {
      "text/plain": [
       "[('respond', 0.9232657551765442),\n",
       " ('try', 0.9164349436759949),\n",
       " ('seek', 0.9024219512939453),\n",
       " ('decide', 0.8954998254776001),\n",
       " ('acquire', 0.887599527835846),\n",
       " ('perform', 0.8862231969833374),\n",
       " ('fix', 0.885450005531311),\n",
       " ('prove', 0.8851593732833862)]"
      ]
     },
     "execution_count": 11,
     "metadata": {},
     "output_type": "execute_result"
    }
   ],
   "source": [
    "model.most_similar_cosmul('fail', topn=8)"
   ]
  },
  {
   "cell_type": "markdown",
   "metadata": {},
   "source": [
    "I was expecting the closest neighbors to 'fail' to be other adjectives representing the same meaning, but it seems like it's showing common verbs accompaning this adjective, as in 'fail to respond' or 'fail to decide'. These are therefore collocations."
   ]
  },
  {
   "cell_type": "code",
   "execution_count": 12,
   "metadata": {},
   "outputs": [
    {
     "name": "stderr",
     "output_type": "stream",
     "text": [
      "/anaconda3/lib/python3.6/site-packages/ipykernel_launcher.py:1: DeprecationWarning: Call to deprecated `most_similar_cosmul` (Method will be removed in 4.0.0, use self.wv.most_similar_cosmul() instead).\n",
      "  \"\"\"Entry point for launching an IPython kernel.\n"
     ]
    },
    {
     "data": {
      "text/plain": [
       "[('deliver', 0.8865854740142822),\n",
       " ('create', 0.878303050994873),\n",
       " ('expand', 0.8757200241088867),\n",
       " ('carry', 0.8716338276863098),\n",
       " ('buy', 0.8673720359802246),\n",
       " ('sell', 0.8645790815353394),\n",
       " ('accommodate', 0.862581729888916),\n",
       " ('keep', 0.8605408072471619)]"
      ]
     },
     "execution_count": 12,
     "metadata": {},
     "output_type": "execute_result"
    }
   ],
   "source": [
    "model.most_similar_cosmul('build', topn=8)"
   ]
  },
  {
   "cell_type": "markdown",
   "metadata": {},
   "source": [
    "The closest neighbors to 'build' are semantically similar verbs meaning 'to create/expand'."
   ]
  },
  {
   "cell_type": "markdown",
   "metadata": {},
   "source": [
    "### 1.2 Analogies"
   ]
  },
  {
   "cell_type": "markdown",
   "metadata": {},
   "source": [
    "#### For each of these analogy tasks, what is the right result, and where is it ranked when computing the analogy using word2vec? (obs: it might be the case that the right answer is not be among the 8 closest neighbors, or there may be more than one right answer). Specify what is the linguistic relation between the right results and the original query (the first word in the analogy)"
   ]
  },
  {
   "cell_type": "code",
   "execution_count": 13,
   "metadata": {},
   "outputs": [
    {
     "name": "stderr",
     "output_type": "stream",
     "text": [
      "/anaconda3/lib/python3.6/site-packages/ipykernel_launcher.py:1: DeprecationWarning: Call to deprecated `most_similar_cosmul` (Method will be removed in 4.0.0, use self.wv.most_similar_cosmul() instead).\n",
      "  \"\"\"Entry point for launching an IPython kernel.\n"
     ]
    },
    {
     "data": {
      "text/plain": [
       "[('empress', 0.9364698529243469),\n",
       " ('son', 0.9166089296340942),\n",
       " ('elector', 0.906948983669281),\n",
       " ('castile', 0.9057071805000305),\n",
       " ('queen', 0.897747814655304),\n",
       " ('elizabeth', 0.8963039517402649),\n",
       " ('emperor', 0.8944636583328247),\n",
       " ('archbishop', 0.8938698172569275)]"
      ]
     },
     "execution_count": 13,
     "metadata": {},
     "output_type": "execute_result"
    }
   ],
   "source": [
    "model.most_similar_cosmul(positive=['king', 'woman'], negative=['man'],topn=8) #king+woman-man=queen"
   ]
  },
  {
   "cell_type": "markdown",
   "metadata": {},
   "source": [
    "The right result should be 'queen', ranked 5th. There is a contextual relation among all sustantives, but not semantic similarity in all cases. I am surprised that we still got some masculine equivalents after sustracting 'man'."
   ]
  },
  {
   "cell_type": "code",
   "execution_count": 27,
   "metadata": {},
   "outputs": [
    {
     "name": "stderr",
     "output_type": "stream",
     "text": [
      "/anaconda3/lib/python3.6/site-packages/ipykernel_launcher.py:1: DeprecationWarning: Call to deprecated `most_similar_cosmul` (Method will be removed in 4.0.0, use self.wv.most_similar_cosmul() instead).\n",
      "  \"\"\"Entry point for launching an IPython kernel.\n"
     ]
    },
    {
     "data": {
      "text/plain": [
       "[('norway', 1.1105077266693115),\n",
       " ('romania', 1.0747724771499634),\n",
       " ('sweden', 1.0710995197296143),\n",
       " ('cedes', 1.0662809610366821),\n",
       " ('hungary', 1.061793565750122),\n",
       " ('latvia', 1.0590490102767944),\n",
       " ('switzerland', 1.0568761825561523),\n",
       " ('lithuania', 1.055883765220642)]"
      ]
     },
     "execution_count": 27,
     "metadata": {},
     "output_type": "execute_result"
    }
   ],
   "source": [
    "model.most_similar_cosmul(positive=['stockholm', 'denmark'], negative=['copenhagen'],topn=8)"
   ]
  },
  {
   "cell_type": "markdown",
   "metadata": {},
   "source": [
    "I would assume the most correct would be Sweden (whose relation would be also contextual/semantical), which is ranked 3rd. Instead, we got the third scandinavian country."
   ]
  },
  {
   "cell_type": "code",
   "execution_count": 28,
   "metadata": {},
   "outputs": [
    {
     "name": "stderr",
     "output_type": "stream",
     "text": [
      "/anaconda3/lib/python3.6/site-packages/ipykernel_launcher.py:1: DeprecationWarning: Call to deprecated `most_similar_cosmul` (Method will be removed in 4.0.0, use self.wv.most_similar_cosmul() instead).\n",
      "  \"\"\"Entry point for launching an IPython kernel.\n"
     ]
    },
    {
     "data": {
      "text/plain": [
       "[('holzman', 0.982444703578949),\n",
       " ('brighter', 0.9815743565559387),\n",
       " ('aegolius', 0.9712939262390137),\n",
       " ('cairngorm', 0.9613748788833618),\n",
       " ('jays', 0.9503967761993408),\n",
       " ('eagles', 0.9462083578109741),\n",
       " ('clutton', 0.9437892436981201),\n",
       " ('hall', 0.9422101378440857)]"
      ]
     },
     "execution_count": 28,
     "metadata": {},
     "output_type": "execute_result"
    }
   ],
   "source": [
    "model.most_similar_cosmul(positive=['green', 'weaker'], negative=['weak'],topn=8)"
   ]
  },
  {
   "cell_type": "markdown",
   "metadata": {},
   "source": [
    "I don't really understand the relations between the neighbors obtained, since I don't know what 'holzman', which is ranked 1st, refers to. It seems to be a basketball player and coach, therefore the 'green' adjective might be related to a field, although in professional basketball they don't usually play outdoors."
   ]
  },
  {
   "cell_type": "code",
   "execution_count": 29,
   "metadata": {},
   "outputs": [
    {
     "name": "stderr",
     "output_type": "stream",
     "text": [
      "/anaconda3/lib/python3.6/site-packages/ipykernel_launcher.py:1: DeprecationWarning: Call to deprecated `most_similar_cosmul` (Method will be removed in 4.0.0, use self.wv.most_similar_cosmul() instead).\n",
      "  \"\"\"Entry point for launching an IPython kernel.\n"
     ]
    },
    {
     "data": {
      "text/plain": [
       "[('lowest', 1.0295003652572632),\n",
       " ('euug', 0.9826725125312805),\n",
       " ('highest', 0.9711028337478638),\n",
       " ('neel', 0.9577215909957886),\n",
       " ('db', 0.9483307003974915),\n",
       " ('ratio', 0.9368687868118286),\n",
       " ('diablotins', 0.9240896105766296),\n",
       " ('unmodulated', 0.9169269800186157)]"
      ]
     },
     "execution_count": 29,
     "metadata": {},
     "output_type": "execute_result"
    }
   ],
   "source": [
    "model.most_similar_cosmul(positive=['high', 'smallest'], negative=['small'],topn=8)"
   ]
  },
  {
   "cell_type": "markdown",
   "metadata": {},
   "source": [
    "They are all adjectives and the logical closest neighbor would be 'highest', ranked 3rd. 'Lowest' is ranked 1st although it is semantically opposite (antonyms)."
   ]
  },
  {
   "cell_type": "code",
   "execution_count": 30,
   "metadata": {},
   "outputs": [
    {
     "name": "stderr",
     "output_type": "stream",
     "text": [
      "/anaconda3/lib/python3.6/site-packages/ipykernel_launcher.py:1: DeprecationWarning: Call to deprecated `most_similar_cosmul` (Method will be removed in 4.0.0, use self.wv.most_similar_cosmul() instead).\n",
      "  \"\"\"Entry point for launching an IPython kernel.\n"
     ]
    },
    {
     "data": {
      "text/plain": [
       "[('blow', 0.8911640048027039),\n",
       " ('releasing', 0.8881102204322815),\n",
       " ('fend', 0.886435866355896),\n",
       " ('samfu', 0.883983850479126),\n",
       " ('blew', 0.8808054327964783),\n",
       " ('attract', 0.877048134803772),\n",
       " ('buy', 0.8752694725990295),\n",
       " ('burn', 0.874954104423523)]"
      ]
     },
     "execution_count": 30,
     "metadata": {},
     "output_type": "execute_result"
    }
   ],
   "source": [
    "model.most_similar_cosmul(positive=['build', 'bad'], negative=['good'],topn=8)"
   ]
  },
  {
   "cell_type": "markdown",
   "metadata": {},
   "source": [
    "By adding 'good' the adjective 'bad' is reinforced even more, so the neartes neighbors are negative consequences of bad building/constructions, such as weak structures and therefore can be blown away ('blow' is ranked 1st) or released ('releasing' ranked 2nd). "
   ]
  },
  {
   "cell_type": "markdown",
   "metadata": {},
   "source": [
    "### 1.3 Semantic addition"
   ]
  },
  {
   "cell_type": "markdown",
   "metadata": {},
   "source": [
    "#### For the following addition experiments, what is the rank of the correct solution/solutions?"
   ]
  },
  {
   "cell_type": "code",
   "execution_count": 63,
   "metadata": {},
   "outputs": [
    {
     "name": "stderr",
     "output_type": "stream",
     "text": [
      "/anaconda3/lib/python3.6/site-packages/ipykernel_launcher.py:1: DeprecationWarning: Call to deprecated `most_similar_cosmul` (Method will be removed in 4.0.0, use self.wv.most_similar_cosmul() instead).\n",
      "  \"\"\"Entry point for launching an IPython kernel.\n"
     ]
    },
    {
     "data": {
      "text/plain": [
       "[('danube', 0.6821359992027283),\n",
       " ('rhine', 0.6648325324058533),\n",
       " ('northeast', 0.6514289379119873),\n",
       " ('border', 0.6455503702163696),\n",
       " ('canal', 0.6448549032211304),\n",
       " ('peninsula', 0.6424357891082764),\n",
       " ('peru', 0.6361529231071472),\n",
       " ('sudan', 0.6348578333854675)]"
      ]
     },
     "execution_count": 63,
     "metadata": {},
     "output_type": "execute_result"
    }
   ],
   "source": [
    "model.most_similar_cosmul(positive=['germany', 'river'],topn=8)"
   ]
  },
  {
   "cell_type": "markdown",
   "metadata": {},
   "source": [
    "The most reasonable solution is ranked 1st, because it's maybe the most famous German river."
   ]
  },
  {
   "cell_type": "code",
   "execution_count": 26,
   "metadata": {},
   "outputs": [
    {
     "name": "stderr",
     "output_type": "stream",
     "text": [
      "/anaconda3/lib/python3.6/site-packages/ipykernel_launcher.py:1: DeprecationWarning: Call to deprecated `most_similar_cosmul` (Method will be removed in 4.0.0, use self.wv.most_similar_cosmul() instead).\n",
      "  \"\"\"Entry point for launching an IPython kernel.\n"
     ]
    },
    {
     "data": {
      "text/plain": [
       "[('denmark', 0.7795769572257996),\n",
       " ('belgium', 0.7677285671234131),\n",
       " ('netherlands', 0.7469103336334229),\n",
       " ('norway', 0.746178388595581),\n",
       " ('luxembourg', 0.7400593757629395),\n",
       " ('switzerland', 0.7339285016059875),\n",
       " ('austria', 0.7328314185142517),\n",
       " ('catalonia', 0.7200887799263)]"
      ]
     },
     "execution_count": 26,
     "metadata": {},
     "output_type": "execute_result"
    }
   ],
   "source": [
    "model.most_similar_cosmul(positive=['sweden', 'capital'],topn=8)"
   ]
  },
  {
   "cell_type": "markdown",
   "metadata": {},
   "source": [
    "The most reasonable solution would be Stockholm but it's not between the 8th topmost nearest neighbors. Instead, the country Denmark is ranked 1st, which does not make much sense."
   ]
  }
 ],
 "metadata": {
  "kernelspec": {
   "display_name": "Python 3",
   "language": "python",
   "name": "python3"
  },
  "language_info": {
   "codemirror_mode": {
    "name": "ipython",
    "version": 3
   },
   "file_extension": ".py",
   "mimetype": "text/x-python",
   "name": "python",
   "nbconvert_exporter": "python",
   "pygments_lexer": "ipython3",
   "version": "3.6.5"
  }
 },
 "nbformat": 4,
 "nbformat_minor": 2
}
